{
 "cells": [
  {
   "cell_type": "markdown",
   "metadata": {},
   "source": [
    "# Navigation\n",
    "\n",
    "---\n",
    "\n",
    "In this notebook, a Deep-Q-Network is composed in order to solve the following project challenge;\n",
    "[Deep Reinforcement Learning Nanodegree](https://www.udacity.com/course/deep-reinforcement-learning-nanodegree--nd893).\n",
    "\n",
    "## 1. Imports\n",
    "\n",
    "We start by importing some useful packages."
   ]
  },
  {
   "cell_type": "code",
   "execution_count": 1,
   "metadata": {},
   "outputs": [],
   "source": [
    "from unityagents import UnityEnvironment # Runs the training environment\n",
    "import numpy as np # General Purpose Data\n",
    "from dqn_agent_new import Agent # The agent class that handles actions and training\n",
    "from collections import deque # Used for bundling and extracting data\n",
    "import matplotlib.pyplot as plt # used for plotting learning results\n",
    "import torch\n",
    "%matplotlib inline"
   ]
  },
  {
   "cell_type": "markdown",
   "metadata": {},
   "source": [
    "This code is made to run on a linux x64 machine. For other training images please refer to the Udacity Github."
   ]
  },
  {
   "cell_type": "markdown",
   "metadata": {},
   "source": [
    "## 2. Examine the environment and set parameters\n",
    "\n",
    "Here, the environment is observed. Opening and closing an environment is not super efficient, but this helps with understanding and must only be done once before training.\n",
    "\n",
    "The simulation contains a single agent that navigates a large environment.  At each time step, it has four actions at its disposal:\n",
    "- `0` - walk forward \n",
    "- `1` - walk backward\n",
    "- `2` - turn left\n",
    "- `3` - turn right\n",
    "\n",
    "The state space has `37` dimensions and contains the agent's velocity, along with ray-based perception of objects around agent's forward direction.  A reward of `+1` is provided for collecting a yellow banana, and a reward of `-1` is provided for collecting a blue banana. \n",
    "\n",
    "Run the code cell below to print some information about the environment."
   ]
  },
  {
   "cell_type": "code",
   "execution_count": 2,
   "metadata": {},
   "outputs": [],
   "source": [
    "observe = False # Set observe to get more Feedback on the environment. Set to false for faster training\n",
    "\n",
    "if observe == True:\n",
    "    env = UnityEnvironment(file_name=\"../BananaFeast/Banana_Linux/Banana.x86_64\")\n",
    "    brain_name = env.brain_names[0]\n",
    "    brain = env.brains[brain_name]\n",
    "    env_info = env.reset(train_mode=True)[brain_name]\n",
    "    # number of agents in the environment\n",
    "    print('Number of agents:', len(env_info.agents))\n",
    "\n",
    "    # number of actions\n",
    "    action_size = brain.vector_action_space_size\n",
    "    print('Number of actions:', action_size)\n",
    "\n",
    "    # examine the state space \n",
    "    state = env_info.vector_observations[0]\n",
    "    print('States look like:', state)\n",
    "    state_size = len(state)\n",
    "    print('States have length:', state_size)\n",
    "    env.close()\n",
    "    agent = Agent(state_size=state_size, action_size=action_size, seed=42)\n",
    "    \n",
    "else:\n",
    "    agent = Agent(state_size=37, action_size=4, seed=42)"
   ]
  },
  {
   "cell_type": "markdown",
   "metadata": {},
   "source": [
    "## 3. Training the Agent\n",
    "The dqn function trains an agent"
   ]
  },
  {
   "cell_type": "code",
   "execution_count": 3,
   "metadata": {
    "scrolled": false
   },
   "outputs": [
    {
     "name": "stderr",
     "output_type": "stream",
     "text": [
      "INFO:unityagents:\n",
      "'Academy' started successfully!\n",
      "Unity Academy name: Academy\n",
      "        Number of Brains: 1\n",
      "        Number of External Brains : 1\n",
      "        Lesson number : 0\n",
      "        Reset Parameters :\n",
      "\t\t\n",
      "Unity brain name: BananaBrain\n",
      "        Number of Visual Observations (per agent): 0\n",
      "        Vector Observation space type: continuous\n",
      "        Vector Observation space size (per agent): 37\n",
      "        Number of stacked Vector Observation: 1\n",
      "        Vector Action space type: discrete\n",
      "        Vector Action space size (per agent): 4\n",
      "        Vector Action descriptions: , , , \n"
     ]
    },
    {
     "name": "stdout",
     "output_type": "stream",
     "text": [
      "Episode 100\tAverage Score: 0.31\tgained Experience: 30000\tcurrent Level: 14\tMax Score: 0.80\tepsilon: 0.61\n",
      "Episode 200\tAverage Score: 0.72\tgained Experience: 60000\tcurrent Level: 29\tMax Score: 0.80\tepsilon: 0.37\n",
      "Episode 300\tAverage Score: 2.51\tgained Experience: 90000\tcurrent Level: 44\tMax Score: 2.51\tepsilon: 0.22\n",
      "Episode 400\tAverage Score: 5.30\tgained Experience: 120000\tcurrent Level: 59\tMax Score: 5.31\tepsilon: 0.13\n",
      "Episode 500\tAverage Score: 6.10\tgained Experience: 150000\tcurrent Level: 74\tMax Score: 6.11\tepsilon: 0.08\n",
      "Episode 600\tAverage Score: 7.76\tgained Experience: 180000\tcurrent Level: 89\tMax Score: 7.91\tepsilon: 0.05\n",
      "Episode 700\tAverage Score: 7.31\tgained Experience: 210000\tcurrent Level: 104\tMax Score: 7.91\tepsilon: 0.03\n",
      "Episode 800\tAverage Score: 6.80\tgained Experience: 240000\tcurrent Level: 119\tMax Score: 7.91\tepsilon: 0.02\n",
      "Episode 900\tAverage Score: 6.46\tgained Experience: 270000\tcurrent Level: 134\tMax Score: 7.91\tepsilon: 0.01\n",
      "Episode 1000\tAverage Score: 10.44\tgained Experience: 300000\tcurrent Level: 149\tMax Score: 10.44\tepsilon: 0.01\n",
      "Episode 1100\tAverage Score: 12.63\tgained Experience: 330000\tcurrent Level: 164\tMax Score: 12.66\tepsilon: 0.01\n",
      "Episode 1200\tAverage Score: 13.81\tgained Experience: 360000\tcurrent Level: 179\tMax Score: 14.17\tepsilon: 0.01\n",
      "Episode 1300\tAverage Score: 13.97\tgained Experience: 390000\tcurrent Level: 194\tMax Score: 14.17\tepsilon: 0.01\n",
      "Episode 1400\tAverage Score: 14.46\tgained Experience: 420000\tcurrent Level: 209\tMax Score: 14.63\tepsilon: 0.01\n",
      "Episode 1500\tAverage Score: 14.58\tgained Experience: 450000\tcurrent Level: 224\tMax Score: 14.77\tepsilon: 0.01\n",
      "Episode 1600\tAverage Score: 14.80\tgained Experience: 480000\tcurrent Level: 239\tMax Score: 15.03\tepsilon: 0.01\n",
      "Episode 1700\tAverage Score: 16.15\tgained Experience: 510000\tcurrent Level: 254\tMax Score: 16.17\tepsilon: 0.01\n",
      "Episode 1800\tAverage Score: 15.61\tgained Experience: 540000\tcurrent Level: 269\tMax Score: 16.21\tepsilon: 0.01\n",
      "Episode 1900\tAverage Score: 15.93\tgained Experience: 570000\tcurrent Level: 284\tMax Score: 16.21\tepsilon: 0.01\n",
      "Episode 2000\tAverage Score: 15.93\tgained Experience: 600000\tcurrent Level: 299\tMax Score: 16.21\tepsilon: 0.01\n",
      "Episode 2100\tAverage Score: 15.92\tgained Experience: 630000\tcurrent Level: 314\tMax Score: 16.29\tepsilon: 0.01\n",
      "Episode 2200\tAverage Score: 16.75\tgained Experience: 660000\tcurrent Level: 329\tMax Score: 16.94\tepsilon: 0.01\n",
      "Episode 2300\tAverage Score: 16.58\tgained Experience: 690000\tcurrent Level: 344\tMax Score: 17.04\tepsilon: 0.01\n",
      "Episode 2400\tAverage Score: 16.77\tgained Experience: 720000\tcurrent Level: 359\tMax Score: 17.22\tepsilon: 0.01\n",
      "Episode 2500\tAverage Score: 16.21\tgained Experience: 750000\tcurrent Level: 374\tMax Score: 17.22\tepsilon: 0.01\n",
      "Episode 2600\tAverage Score: 15.44\tgained Experience: 780000\tcurrent Level: 389\tMax Score: 17.22\tepsilon: 0.01\n",
      "Episode 2700\tAverage Score: 17.11\tgained Experience: 810000\tcurrent Level: 404\tMax Score: 17.30\tepsilon: 0.01\n",
      "Episode 2800\tAverage Score: 16.73\tgained Experience: 840000\tcurrent Level: 419\tMax Score: 17.39\tepsilon: 0.01\n",
      "Episode 2900\tAverage Score: 17.13\tgained Experience: 870000\tcurrent Level: 434\tMax Score: 17.39\tepsilon: 0.01\n",
      "Episode 3000\tAverage Score: 17.08\tgained Experience: 900000\tcurrent Level: 449\tMax Score: 17.39\tepsilon: 0.01\n",
      "Episode 3100\tAverage Score: 17.76\tgained Experience: 930000\tcurrent Level: 464\tMax Score: 18.00\tepsilon: 0.01\n",
      "Episode 3200\tAverage Score: 17.23\tgained Experience: 960000\tcurrent Level: 479\tMax Score: 18.00\tepsilon: 0.01\n",
      "Episode 3300\tAverage Score: 16.83\tgained Experience: 990000\tcurrent Level: 494\tMax Score: 18.00\tepsilon: 0.01\n",
      "Episode 3400\tAverage Score: 17.63\tgained Experience: 1020000\tcurrent Level: 509\tMax Score: 18.00\tepsilon: 0.01\n",
      "Episode 3500\tAverage Score: 16.74\tgained Experience: 1050000\tcurrent Level: 524\tMax Score: 18.00\tepsilon: 0.01\n",
      "Episode 3600\tAverage Score: 16.66\tgained Experience: 1080000\tcurrent Level: 539\tMax Score: 18.00\tepsilon: 0.01\n",
      "Episode 3700\tAverage Score: 17.03\tgained Experience: 1110000\tcurrent Level: 554\tMax Score: 18.00\tepsilon: 0.01\n",
      "Episode 3800\tAverage Score: 17.39\tgained Experience: 1140000\tcurrent Level: 569\tMax Score: 18.00\tepsilon: 0.01\n",
      "Episode 3900\tAverage Score: 16.17\tgained Experience: 1170000\tcurrent Level: 584\tMax Score: 18.00\tepsilon: 0.01\n",
      "Episode 4000\tAverage Score: 17.08\tgained Experience: 1200000\tcurrent Level: 599\tMax Score: 18.00\tepsilon: 0.01\n",
      "Episode 4100\tAverage Score: 16.26\tgained Experience: 1230000\tcurrent Level: 614\tMax Score: 18.00\tepsilon: 0.01\n",
      "Episode 4200\tAverage Score: 15.96\tgained Experience: 1260000\tcurrent Level: 629\tMax Score: 18.00\tepsilon: 0.01\n",
      "Episode 4300\tAverage Score: 17.31\tgained Experience: 1290000\tcurrent Level: 644\tMax Score: 18.00\tepsilon: 0.01\n",
      "Episode 4400\tAverage Score: 17.20\tgained Experience: 1320000\tcurrent Level: 659\tMax Score: 18.00\tepsilon: 0.01\n",
      "Episode 4500\tAverage Score: 16.34\tgained Experience: 1350000\tcurrent Level: 674\tMax Score: 18.00\tepsilon: 0.01\n",
      "Episode 4600\tAverage Score: 16.95\tgained Experience: 1380000\tcurrent Level: 689\tMax Score: 18.00\tepsilon: 0.01\n",
      "Episode 4700\tAverage Score: 16.62\tgained Experience: 1410000\tcurrent Level: 704\tMax Score: 18.00\tepsilon: 0.01\n",
      "Episode 4800\tAverage Score: 16.43\tgained Experience: 1440000\tcurrent Level: 719\tMax Score: 18.00\tepsilon: 0.01\n",
      "Episode 4900\tAverage Score: 16.39\tgained Experience: 1470000\tcurrent Level: 734\tMax Score: 18.00\tepsilon: 0.01\n",
      "Episode 5000\tAverage Score: 16.94\tgained Experience: 1500000\tcurrent Level: 749\tMax Score: 18.00\tepsilon: 0.01\n",
      "\n",
      "Environment solved in 4900 episodes!\tAverage Score: 16.94\n"
     ]
    },
    {
     "data": {
      "image/png": "[encoded data removed]",
      "text/plain": [
       "<Figure size 432x288 with 1 Axes>"
      ]
     },
     "metadata": {
      "needs_background": "light"
     },
     "output_type": "display_data"
    }
   ],
   "source": [
    "def dqn(n_episodes=1800, max_t=1000, eps_start=1.0, eps_end=0.01, eps_decay=0.995):\n",
    "    \"\"\"Deep Q-Learning.\n",
    "    \n",
    "    Params\n",
    "    ======\n",
    "        n_episodes (int): maximum number of training episodes\n",
    "        max_t (int): maximum number of timesteps per episode\n",
    "        eps_start (float): starting value of epsilon, for epsilon-greedy action selection\n",
    "        eps_end (float): minimum value of epsilon\n",
    "        eps_decay (float): multiplicative factor (per episode) for decreasing epsilon\n",
    "    \"\"\"\n",
    "    agent = Agent(state_size=37, action_size=4, seed=42, EPSILON=eps_start)\n",
    "    env = UnityEnvironment(file_name=\"../BananaFeast/Banana_Linux/Banana.x86_64\")\n",
    "    brain_name = env.brain_names[0]\n",
    "    brain = env.brains[brain_name]\n",
    "    scores = []                        # list containing scores from each episode\n",
    "    scores_window = deque(maxlen=100)  # last 100 scores\n",
    "    eps = eps_start                    # initialize epsilon\n",
    "    for i_episode in range(1, n_episodes+1):\n",
    "        env_info = env.reset(train_mode=True)[brain_name]\n",
    "        state = env_info.vector_observations[0]          \n",
    "        score = 0\n",
    "        for t in range(max_t):\n",
    "            action = agent.get_action(state)\n",
    "            env_info = env.step(action)[brain_name]\n",
    "            next_state, reward, done = env_info.vector_observations[0], env_info.rewards[0], env_info.local_done[0]\n",
    "            agent.step(state, action, reward, next_state, done)\n",
    "            state = next_state\n",
    "            score += reward\n",
    "            if done:\n",
    "                break \n",
    "        scores_window.append(score)       # save most recent score\n",
    "        scores.append(score)              # save most recent score\n",
    "        eps = max(eps_end, eps_decay*eps) # decrease epsilon\n",
    "        agent.EPSILON = eps\n",
    "        if agent.scoremax < np.mean(scores_window): \n",
    "            agent.scoremax = np.mean(scores_window)\n",
    "        exp, lvl, maxscore = agent.get_stats()\n",
    "        print('\\rEpisode {}\\tAverage Score: {:.2f}\\tgained Experience: {}\\tcurrent Level: {}\\tMax Score: {:.2f}\\tepsilon: {:.2f}'.format(i_episode, np.mean(scores_window), exp, lvl, maxscore, agent.EPSILON), end=\"\")\n",
    "        if i_episode % 100 == 0:\n",
    "            print('\\rEpisode {}\\tAverage Score: {:.2f}'.format(i_episode, np.mean(scores_window)))\n",
    "    if np.mean(scores_window)>=10.0:\n",
    "        print('\\nEnvironment solved in {:d} episodes!\\tAverage Score: {:.2f}'.format(i_episode-100, np.mean(scores_window)))\n",
    "        torch.save(agent.localNet.state_dict(), 'checkpoint4.pth')\n",
    "    env.close()\n",
    "    return scores\n",
    "\n",
    "scores = dqn()\n",
    "\n",
    "# plot the scores\n",
    "fig = plt.figure()\n",
    "ax = fig.add_subplot(111)\n",
    "plt.plot(np.arange(len(scores)), scores)\n",
    "plt.ylabel('Score')\n",
    "plt.xlabel('Episode #')\n",
    "plt.savefig('ninthtry.png')\n",
    "plt.show()\n"
   ]
  },
  {
   "cell_type": "code",
   "execution_count": 14,
   "metadata": {},
   "outputs": [
    {
     "data": {
      "text/plain": [
       "Text(0.5, 0, 'Episode #')"
      ]
     },
     "execution_count": 14,
     "metadata": {},
     "output_type": "execute_result"
    },
    {
     "data": {
      "image/png": "[encoded data removed]",
      "text/plain": [
       "<Figure size 432x288 with 1 Axes>"
      ]
     },
     "metadata": {
      "needs_background": "light"
     },
     "output_type": "display_data"
    }
   ],
   "source": [
    "fig = plt.figure()\n",
    "ax = fig.add_subplot(111)\n",
    "plt.plot(np.arange(len(avg)), avg)\n",
    "plt.ylabel('Score')\n",
    "plt.xlabel('Episode #')"
   ]
  },
  {
   "cell_type": "code",
   "execution_count": 13,
   "metadata": {},
   "outputs": [
    {
     "name": "stdout",
     "output_type": "stream",
     "text": [
      "0\n",
      "200\n",
      "400\n",
      "600\n",
      "800\n",
      "1000\n",
      "1200\n",
      "1400\n",
      "1600\n",
      "1800\n",
      "2000\n",
      "2200\n",
      "2400\n",
      "2600\n",
      "2800\n",
      "3000\n",
      "3200\n",
      "3400\n",
      "3600\n",
      "3800\n",
      "4000\n",
      "4200\n",
      "4400\n",
      "4600\n",
      "4800\n"
     ]
    }
   ],
   "source": [
    "import statistics\n",
    "avg = []\n",
    "i = 0\n",
    "while i < len(scores):\n",
    "    print(i)\n",
    "    row = scores[i:i+200]\n",
    "    x = statistics.mean(row)\n",
    "    avg.append(x)\n",
    "    i += 200"
   ]
  },
  {
   "cell_type": "code",
   "execution_count": null,
   "metadata": {},
   "outputs": [],
   "source": []
  },
  {
   "cell_type": "markdown",
   "metadata": {},
   "source": [
    "## 4. Watch the agent\n",
    "\n",
    "In the next code cell, you will learn how to use the Python API to control the agent and receive feedback from the environment.\n",
    "\n",
    "Once this cell is executed, you will watch the agent's performance, if it selects an action (uniformly) at random with each time step.  A window should pop up that allows you to observe the agent, as it moves through the environment.  \n",
    "\n",
    "Of course, as part of the project, you'll have to change the code so that the agent is able to use its experience to gradually choose better actions when interacting with the environment!"
   ]
  },
  {
   "cell_type": "code",
   "execution_count": 4,
   "metadata": {},
   "outputs": [
    {
     "ename": "NameError",
     "evalue": "name 'env' is not defined",
     "output_type": "error",
     "traceback": [
      "\u001b[0;31m---------------------------------------------------------------------------\u001b[0m",
      "\u001b[0;31mNameError\u001b[0m                                 Traceback (most recent call last)",
      "\u001b[0;32m<ipython-input-4-28eb1cd162fd>\u001b[0m in \u001b[0;36m<module>\u001b[0;34m\u001b[0m\n\u001b[0;32m----> 1\u001b[0;31m \u001b[0menv_info\u001b[0m \u001b[0;34m=\u001b[0m \u001b[0menv\u001b[0m\u001b[0;34m.\u001b[0m\u001b[0mreset\u001b[0m\u001b[0;34m(\u001b[0m\u001b[0mtrain_mode\u001b[0m\u001b[0;34m=\u001b[0m\u001b[0;32mFalse\u001b[0m\u001b[0;34m)\u001b[0m\u001b[0;34m[\u001b[0m\u001b[0mbrain_name\u001b[0m\u001b[0;34m]\u001b[0m \u001b[0;31m# reset the environment\u001b[0m\u001b[0;34m\u001b[0m\u001b[0;34m\u001b[0m\u001b[0m\n\u001b[0m\u001b[1;32m      2\u001b[0m \u001b[0mstate\u001b[0m \u001b[0;34m=\u001b[0m \u001b[0menv_info\u001b[0m\u001b[0;34m.\u001b[0m\u001b[0mvector_observations\u001b[0m\u001b[0;34m[\u001b[0m\u001b[0;36m0\u001b[0m\u001b[0;34m]\u001b[0m            \u001b[0;31m# get the current state\u001b[0m\u001b[0;34m\u001b[0m\u001b[0;34m\u001b[0m\u001b[0m\n\u001b[1;32m      3\u001b[0m \u001b[0mscore\u001b[0m \u001b[0;34m=\u001b[0m \u001b[0;36m0\u001b[0m                                          \u001b[0;31m# initialize the score\u001b[0m\u001b[0;34m\u001b[0m\u001b[0;34m\u001b[0m\u001b[0m\n\u001b[1;32m      4\u001b[0m \u001b[0;32mwhile\u001b[0m \u001b[0;32mTrue\u001b[0m\u001b[0;34m:\u001b[0m\u001b[0;34m\u001b[0m\u001b[0;34m\u001b[0m\u001b[0m\n\u001b[1;32m      5\u001b[0m     \u001b[0maction\u001b[0m \u001b[0;34m=\u001b[0m \u001b[0mnp\u001b[0m\u001b[0;34m.\u001b[0m\u001b[0mrandom\u001b[0m\u001b[0;34m.\u001b[0m\u001b[0mrandint\u001b[0m\u001b[0;34m(\u001b[0m\u001b[0maction_size\u001b[0m\u001b[0;34m)\u001b[0m        \u001b[0;31m# select an action\u001b[0m\u001b[0;34m\u001b[0m\u001b[0;34m\u001b[0m\u001b[0m\n",
      "\u001b[0;31mNameError\u001b[0m: name 'env' is not defined"
     ]
    }
   ],
   "source": [
    "env_info = env.reset(train_mode=False)[brain_name] # reset the environment\n",
    "state = env_info.vector_observations[0]            # get the current state\n",
    "score = 0                                          # initialize the score\n",
    "while True:\n",
    "    action = np.random.randint(action_size)        # select an action\n",
    "    env_info = env.step(action)[brain_name]        # send the action to the environment\n",
    "    next_state = env_info.vector_observations[0]   # get the next state\n",
    "    reward = env_info.rewards[0]                   # get the reward\n",
    "    done = env_info.local_done[0]                  # see if episode has finished\n",
    "    score += reward                                # update the score\n",
    "    state = next_state                             # roll over the state to next time step\n",
    "    if done:                                       # exit loop if episode finished\n",
    "        break\n",
    "    \n",
    "print(\"Score: {}\".format(score))"
   ]
  },
  {
   "cell_type": "markdown",
   "metadata": {},
   "source": [
    "When finished, you can close the environment."
   ]
  }
 ],
 "metadata": {
  "kernelspec": {
   "display_name": "drlnd",
   "language": "python",
   "name": "drlnd"
  },
  "language_info": {
   "codemirror_mode": {
    "name": "ipython",
    "version": 3
   },
   "file_extension": ".py",
   "mimetype": "text/x-python",
   "name": "python",
   "nbconvert_exporter": "python",
   "pygments_lexer": "ipython3",
   "version": "3.6.8"
  }
 },
 "nbformat": 4,
 "nbformat_minor": 2
}
