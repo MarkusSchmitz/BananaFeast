{
 "cells": [
  {
   "cell_type": "markdown",
   "metadata": {},
   "source": [
    "# Navigation\n",
    "\n",
    "---\n",
    "\n",
    "In this notebook, a Deep-Q-Network is composed in order to solve the following project challenge;\n",
    "[Deep Reinforcement Learning Nanodegree](https://www.udacity.com/course/deep-reinforcement-learning-nanodegree--nd893).\n",
    "\n",
    "## 1. Imports\n",
    "\n",
    "We start by importing some useful packages."
   ]
  },
  {
   "cell_type": "code",
   "execution_count": 1,
   "metadata": {},
   "outputs": [],
   "source": [
    "from unityagents import UnityEnvironment # Runs the training environment\n",
    "import numpy as np # General Purpose Data\n",
    "from dqn_agent_new import Agent # The agent class that handles actions and training\n",
    "from collections import deque # Used for bundling and extracting data\n",
    "import matplotlib.pyplot as plt # used for plotting learning results\n",
    "import torch\n",
    "import pickle\n",
    "import time\n",
    "%matplotlib inline"
   ]
  },
  {
   "cell_type": "markdown",
   "metadata": {},
   "source": [
    "This code is made to run on a linux x64 machine. For other training images please refer to the Udacity Github."
   ]
  },
  {
   "cell_type": "markdown",
   "metadata": {},
   "source": [
    "## 2. Examine the environment and set parameters\n",
    "\n",
    "Here, the environment is observed. Opening and closing an environment is not super efficient, but this helps with understanding and must only be done once before training.\n",
    "\n",
    "The simulation contains a single agent that navigates a large environment.  At each time step, it has four actions at its disposal:\n",
    "- `0` - walk forward \n",
    "- `1` - walk backward\n",
    "- `2` - turn left\n",
    "- `3` - turn right\n",
    "\n",
    "The state space has `37` dimensions and contains the agent's velocity, along with ray-based perception of objects around agent's forward direction.  A reward of `+1` is provided for collecting a yellow banana, and a reward of `-1` is provided for collecting a blue banana. \n",
    "\n",
    "Run the code cell below to print some information about the environment."
   ]
  },
  {
   "cell_type": "code",
   "execution_count": 2,
   "metadata": {},
   "outputs": [
    {
     "name": "stderr",
     "output_type": "stream",
     "text": [
      "INFO:unityagents:\n",
      "'Academy' started successfully!\n",
      "Unity Academy name: Academy\n",
      "        Number of Brains: 1\n",
      "        Number of External Brains : 1\n",
      "        Lesson number : 0\n",
      "        Reset Parameters :\n",
      "\t\t\n",
      "Unity brain name: BananaBrain\n",
      "        Number of Visual Observations (per agent): 0\n",
      "        Vector Observation space type: continuous\n",
      "        Vector Observation space size (per agent): 37\n",
      "        Number of stacked Vector Observation: 1\n",
      "        Vector Action space type: discrete\n",
      "        Vector Action space size (per agent): 4\n",
      "        Vector Action descriptions: , , , \n"
     ]
    }
   ],
   "source": [
    "observe = False # Set observe to get more Feedback on the environment. Set to false for faster training\n",
    "\n",
    "if observe == True:\n",
    "    env = UnityEnvironment(file_name=\"../BananaFeast/Banana_Linux/Banana.x86_64\")\n",
    "    brain_name = env.brain_names[0]\n",
    "    brain = env.brains[brain_name]\n",
    "    env_info = env.reset(train_mode=True)[brain_name]\n",
    "    # number of agents in the environment\n",
    "    print('Number of agents:', len(env_info.agents))\n",
    "\n",
    "    # number of actions\n",
    "    action_size = brain.vector_action_space_size\n",
    "    print('Number of actions:', action_size)\n",
    "\n",
    "    # examine the state space \n",
    "    state = env_info.vector_observations[0]\n",
    "    print('States look like:', state)\n",
    "    state_size = len(state)\n",
    "    print('States have length:', state_size)\n",
    "    env.close()\n",
    "    agent = Agent(state_size=state_size, action_size=action_size, seed=42)\n",
    "    \n",
    "else:\n",
    "    agent = Agent(state_size=37, action_size=4, seed=42)\n",
    "env = UnityEnvironment(file_name=\"../BananaFeast/Banana_Linux/Banana.x86_64\")\n",
    "brain_name = env.brain_names[0]\n",
    "brain = env.brains[brain_name]"
   ]
  },
  {
   "cell_type": "markdown",
   "metadata": {},
   "source": [
    "## 3. Training the Agent\n",
    "The dqn function trains an agent"
   ]
  },
  {
   "cell_type": "code",
   "execution_count": 3,
   "metadata": {
    "scrolled": false
   },
   "outputs": [],
   "source": [
    "def dqn(n_episodes=2000, max_t=1500, eps_start=1.0, eps_end=0.01, eps_decay=0.95, watch=False, BUFFER_SIZE = int(1e5), BATCH_SIZE = 64, GAMMA = 0.99, \n",
    "        TAU = 1e-3, LR = 5e-4, UPDATE_INTERVAL = 20, model = True):\n",
    "    \"\"\"Deep Q-Learning.\n",
    "    \n",
    "    Params\n",
    "    ======\n",
    "        n_episodes (int): maximum number of training episodes\n",
    "        max_t (int): maximum number of timesteps per episode\n",
    "        eps_start (float): starting value of epsilon, for epsilon-greedy action selection\n",
    "        eps_end (float): minimum value of epsilon\n",
    "        eps_decay (float): multiplicative factor (per episode) for decreasing epsilon\n",
    "    \"\"\"\n",
    "    agent = Agent(BUFFER_SIZE = BUFFER_SIZE, BATCH_SIZE = BATCH_SIZE, GAMMA = GAMMA, \n",
    "        TAU = TAU, LR = LR, UPDATE_INTERVAL = UPDATE_INTERVAL ,state_size=37, action_size=4, seed=42, EPSILON=eps_start, model = model)\n",
    "    scores = []                        # list containing scores from each episode\n",
    "    scores_window = deque(maxlen=100)  # last 100 scores\n",
    "    eps = eps_start                    # initialize epsilon\n",
    "    for i_episode in range(1, n_episodes+1):\n",
    "        env_info = env.reset(train_mode=True)[brain_name]\n",
    "        state = env_info.vector_observations[0]          \n",
    "        score = 0\n",
    "        for t in range(max_t):\n",
    "            action = agent.get_action(state)\n",
    "            env_info = env.step(action)[brain_name]\n",
    "            next_state, reward, done = env_info.vector_observations[0], env_info.rewards[0], env_info.local_done[0]\n",
    "            agent.step(state, action, reward, next_state, done)\n",
    "            state = next_state\n",
    "            score += reward\n",
    "            if done:\n",
    "                break \n",
    "        scores_window.append(score)       # save most recent score\n",
    "        scores.append(score)              # save most recent score\n",
    "        eps = max(eps_end, eps_decay*eps) # decrease epsilon\n",
    "        agent.EPSILON = eps\n",
    "        if agent.scoremax < np.mean(scores_window): \n",
    "            agent.scoremax = np.mean(scores_window)\n",
    "        exp, lvl, maxscore = agent.get_stats()\n",
    "        print('\\rEpisode {}\\tAverage Score: {:.2f}\\tgained Experience: {}\\tcurrent Level: {}\\tMax Score: {:.2f}'.format(i_episode, np.mean(scores_window), exp, lvl, maxscore), end=\"\")\n",
    "        if i_episode % 100 == 0:\n",
    "            print('\\rEpisode {}\\tAverage Score: {:.2f}'.format(i_episode, np.mean(scores_window)))\n",
    "    if np.mean(scores_window)>=13.0:\n",
    "        print('\\nEnvironment solved in {:d} episodes!\\tAverage Score: {:.2f}'.format(i_episode-100, np.mean(scores_window)))\n",
    "        torch.save(agent.localNet.state_dict(), 'checkpoint4.pth')\n",
    "    print(\"\\nfinished training\")\n",
    "    agent.EPSILON = 0\n",
    "    if watch == True:\n",
    "        for i_episode in range(1, 50):\n",
    "            env_info = env.reset(train_mode=True)[brain_name]\n",
    "            state = env_info.vector_observations[0]          \n",
    "            for t in range(max_t):\n",
    "                action = agent.get_action(state)\n",
    "                env_info = env.step(action)[brain_name]\n",
    "                next_state, reward, done = env_info.vector_observations[0], env_info.rewards[0], env_info.local_done[0]\n",
    "                state = next_state\n",
    "                time.sleep(.016)\n",
    "                if done:\n",
    "                    break \n",
    "    #env.close()\n",
    "    return scores, agent.scoremax"
   ]
  },
  {
   "cell_type": "code",
   "execution_count": 4,
   "metadata": {},
   "outputs": [
    {
     "data": {
      "text/plain": [
       "6"
      ]
     },
     "execution_count": 4,
     "metadata": {},
     "output_type": "execute_result"
    }
   ],
   "source": [
    "from sklearn.model_selection import ParameterGrid\n",
    "\n",
    "grid = {\n",
    "    \"BUFFER_SIZE\" : [int(1e5)],\n",
    "    \"BATCH_SIZE\" : [64],\n",
    "    \"GAMMA\" : [0.99],\n",
    "    \"TAU\" : [1e-3],\n",
    "    \"LR\" : [5e-4],\n",
    "    \"UPDATE_INTERVAL\" : [20],\n",
    "    \"model\" : [True, False],\n",
    "    \"eps_decay\" : [0.9, 0.99, 0.999]\n",
    "}\n",
    "\n",
    "len(list(ParameterGrid(grid)))"
   ]
  },
  {
   "cell_type": "code",
   "execution_count": 5,
   "metadata": {},
   "outputs": [],
   "source": [
    "import statistics\n",
    "\n",
    "def plot_res(score):\n",
    "    avg = []\n",
    "    i = 0\n",
    "    while i < len(score):\n",
    "        row = score[i:i+50]\n",
    "        x = statistics.mean(row)\n",
    "        avg.append(x)\n",
    "        i += 50\n",
    "    fig = plt.figure()\n",
    "    ax = fig.add_subplot(111)\n",
    "    plt.plot(np.arange(len(avg)), avg)\n",
    "    plt.ylabel('Score')\n",
    "    plt.xlabel('Episode #')    \n",
    "    plt.show()"
   ]
  },
  {
   "cell_type": "code",
   "execution_count": 6,
   "metadata": {
    "scrolled": false
   },
   "outputs": [
    {
     "name": "stdout",
     "output_type": "stream",
     "text": [
      "--------------------------------------------------------------------------------------------------\n",
      "run\t 1\n",
      "{'BATCH_SIZE': 64, 'BUFFER_SIZE': 100000, 'GAMMA': 0.99, 'LR': 0.0005, 'TAU': 0.001, 'UPDATE_INTERVAL': 20, 'eps_decay': 0.9, 'model': True}\n",
      "[64, 100000, 0.99, 0.0005, 0.001, 20, 0.9, True]\n",
      "Episode 100\tAverage Score: -0.09\tgained Experience: 30000\tcurrent Level: 14\tMax Score: 0.62\n",
      "Episode 200\tAverage Score: -0.09\tgained Experience: 60000\tcurrent Level: 29\tMax Score: 0.62\n",
      "Episode 300\tAverage Score: 0.35\tgained Experience: 90000\tcurrent Level: 44\tMax Score: 0.622\n",
      "Episode 400\tAverage Score: 1.17\tgained Experience: 120000\tcurrent Level: 59\tMax Score: 1.26\n",
      "Episode 500\tAverage Score: 2.17\tgained Experience: 150000\tcurrent Level: 74\tMax Score: 2.17\n",
      "Episode 600\tAverage Score: 3.32\tgained Experience: 180000\tcurrent Level: 89\tMax Score: 3.32\n",
      "Episode 700\tAverage Score: 7.21\tgained Experience: 210000\tcurrent Level: 104\tMax Score: 7.21\n",
      "Episode 800\tAverage Score: 9.14\tgained Experience: 240000\tcurrent Level: 119\tMax Score: 9.14\n",
      "Episode 900\tAverage Score: 9.75\tgained Experience: 270000\tcurrent Level: 134\tMax Score: 10.011\n",
      "Episode 1000\tAverage Score: 10.07\tgained Experience: 300000\tcurrent Level: 149\tMax Score: 10.63\n",
      "Episode 1100\tAverage Score: 10.39\tgained Experience: 330000\tcurrent Level: 164\tMax Score: 10.69\n",
      "Episode 1200\tAverage Score: 10.18\tgained Experience: 360000\tcurrent Level: 179\tMax Score: 10.69\n",
      "Episode 1300\tAverage Score: 12.56\tgained Experience: 390000\tcurrent Level: 194\tMax Score: 12.56\n",
      "Episode 1400\tAverage Score: 13.57\tgained Experience: 420000\tcurrent Level: 209\tMax Score: 13.71\n",
      "Episode 1500\tAverage Score: 15.02\tgained Experience: 450000\tcurrent Level: 224\tMax Score: 15.15\n",
      "Episode 1600\tAverage Score: 16.43\tgained Experience: 480000\tcurrent Level: 239\tMax Score: 16.50\n",
      "Episode 1700\tAverage Score: 15.59\tgained Experience: 510000\tcurrent Level: 254\tMax Score: 16.54\n",
      "Episode 1800\tAverage Score: 15.54\tgained Experience: 540000\tcurrent Level: 269\tMax Score: 16.54\n",
      "Episode 1900\tAverage Score: 15.59\tgained Experience: 570000\tcurrent Level: 284\tMax Score: 16.54\n",
      "Episode 2000\tAverage Score: 14.94\tgained Experience: 600000\tcurrent Level: 299\tMax Score: 16.54\n",
      "\n",
      "Environment solved in 1900 episodes!\tAverage Score: 14.94\n",
      "\n",
      "finished training\n",
      "CPU times: user 14min 52s, sys: 1min 37s, total: 16min 29s\n",
      "Wall time: 28min 10s\n"
     ]
    },
    {
     "data": {
      "image/png": "[encoded data removed]",
      "text/plain": [
       "<Figure size 432x288 with 1 Axes>"
      ]
     },
     "metadata": {
      "needs_background": "light"
     },
     "output_type": "display_data"
    },
    {
     "name": "stdout",
     "output_type": "stream",
     "text": [
      "\n",
      "\n",
      "--------------------------------------------------------------------------------------------------\n",
      "run\t 2\n",
      "{'BATCH_SIZE': 64, 'BUFFER_SIZE': 100000, 'GAMMA': 0.99, 'LR': 0.0005, 'TAU': 0.001, 'UPDATE_INTERVAL': 20, 'eps_decay': 0.9, 'model': False}\n",
      "[64, 100000, 0.99, 0.0005, 0.001, 20, 0.9, False]\n",
      "Episode 100\tAverage Score: 1.08\tgained Experience: 30000\tcurrent Level: 14\tMax Score: 1.12\n",
      "Episode 200\tAverage Score: 1.44\tgained Experience: 60000\tcurrent Level: 29\tMax Score: 1.44\n",
      "Episode 300\tAverage Score: 2.58\tgained Experience: 90000\tcurrent Level: 44\tMax Score: 2.60\n",
      "Episode 400\tAverage Score: 4.61\tgained Experience: 120000\tcurrent Level: 59\tMax Score: 4.63\n",
      "Episode 500\tAverage Score: 6.81\tgained Experience: 150000\tcurrent Level: 74\tMax Score: 6.87\n",
      "Episode 600\tAverage Score: 4.61\tgained Experience: 180000\tcurrent Level: 89\tMax Score: 7.05\n",
      "Episode 700\tAverage Score: 4.11\tgained Experience: 210000\tcurrent Level: 104\tMax Score: 7.05\n",
      "Episode 800\tAverage Score: 5.23\tgained Experience: 240000\tcurrent Level: 119\tMax Score: 7.05\n",
      "Episode 900\tAverage Score: 6.53\tgained Experience: 270000\tcurrent Level: 134\tMax Score: 7.05\n",
      "Episode 1000\tAverage Score: 5.60\tgained Experience: 300000\tcurrent Level: 149\tMax Score: 7.05\n",
      "Episode 1100\tAverage Score: 4.14\tgained Experience: 330000\tcurrent Level: 164\tMax Score: 7.05\n",
      "Episode 1200\tAverage Score: 5.72\tgained Experience: 360000\tcurrent Level: 179\tMax Score: 7.05\n",
      "Episode 1300\tAverage Score: 10.18\tgained Experience: 390000\tcurrent Level: 194\tMax Score: 10.18\n",
      "Episode 1400\tAverage Score: 11.94\tgained Experience: 420000\tcurrent Level: 209\tMax Score: 12.07\n",
      "Episode 1500\tAverage Score: 11.55\tgained Experience: 450000\tcurrent Level: 224\tMax Score: 12.07\n",
      "Episode 1600\tAverage Score: 13.33\tgained Experience: 480000\tcurrent Level: 239\tMax Score: 13.58\n",
      "Episode 1700\tAverage Score: 14.57\tgained Experience: 510000\tcurrent Level: 254\tMax Score: 14.57\n",
      "Episode 1800\tAverage Score: 15.60\tgained Experience: 540000\tcurrent Level: 269\tMax Score: 15.71\n",
      "Episode 1900\tAverage Score: 15.28\tgained Experience: 570000\tcurrent Level: 284\tMax Score: 15.71\n",
      "Episode 2000\tAverage Score: 15.47\tgained Experience: 600000\tcurrent Level: 299\tMax Score: 16.16\n",
      "\n",
      "Environment solved in 1900 episodes!\tAverage Score: 15.47\n",
      "\n",
      "finished training\n",
      "CPU times: user 16min 11s, sys: 1min 36s, total: 17min 48s\n",
      "Wall time: 29min 46s\n"
     ]
    },
    {
     "data": {
      "image/png": "[encoded data removed]",
      "text/plain": [
       "<Figure size 432x288 with 1 Axes>"
      ]
     },
     "metadata": {
      "needs_background": "light"
     },
     "output_type": "display_data"
    },
    {
     "name": "stdout",
     "output_type": "stream",
     "text": [
      "\n",
      "\n",
      "--------------------------------------------------------------------------------------------------\n",
      "run\t 3\n",
      "{'BATCH_SIZE': 64, 'BUFFER_SIZE': 100000, 'GAMMA': 0.99, 'LR': 0.0005, 'TAU': 0.001, 'UPDATE_INTERVAL': 20, 'eps_decay': 0.99, 'model': True}\n",
      "[64, 100000, 0.99, 0.0005, 0.001, 20, 0.99, True]\n",
      "Episode 100\tAverage Score: 0.18\tgained Experience: 30000\tcurrent Level: 14\tMax Score: 0.25\n",
      "Episode 200\tAverage Score: 0.21\tgained Experience: 60000\tcurrent Level: 29\tMax Score: 0.40\n",
      "Episode 300\tAverage Score: 0.51\tgained Experience: 90000\tcurrent Level: 44\tMax Score: 0.53\n",
      "Episode 400\tAverage Score: 2.13\tgained Experience: 120000\tcurrent Level: 59\tMax Score: 2.13\n",
      "Episode 500\tAverage Score: 4.51\tgained Experience: 150000\tcurrent Level: 74\tMax Score: 4.51\n",
      "Episode 600\tAverage Score: 5.98\tgained Experience: 180000\tcurrent Level: 89\tMax Score: 5.98\n",
      "Episode 700\tAverage Score: 8.36\tgained Experience: 210000\tcurrent Level: 104\tMax Score: 8.40\n",
      "Episode 800\tAverage Score: 11.31\tgained Experience: 240000\tcurrent Level: 119\tMax Score: 11.34\n",
      "Episode 900\tAverage Score: 11.20\tgained Experience: 270000\tcurrent Level: 134\tMax Score: 11.83\n",
      "Episode 1000\tAverage Score: 8.57\tgained Experience: 300000\tcurrent Level: 149\tMax Score: 11.83\n",
      "Episode 1100\tAverage Score: 9.35\tgained Experience: 330000\tcurrent Level: 164\tMax Score: 11.83\n",
      "Episode 1200\tAverage Score: 12.10\tgained Experience: 360000\tcurrent Level: 179\tMax Score: 12.10\n",
      "Episode 1300\tAverage Score: 13.29\tgained Experience: 390000\tcurrent Level: 194\tMax Score: 13.34\n",
      "Episode 1400\tAverage Score: 15.09\tgained Experience: 420000\tcurrent Level: 209\tMax Score: 15.24\n",
      "Episode 1500\tAverage Score: 15.51\tgained Experience: 450000\tcurrent Level: 224\tMax Score: 15.57\n",
      "Episode 1600\tAverage Score: 15.59\tgained Experience: 480000\tcurrent Level: 239\tMax Score: 15.91\n",
      "Episode 1700\tAverage Score: 16.47\tgained Experience: 510000\tcurrent Level: 254\tMax Score: 16.47\n",
      "Episode 1800\tAverage Score: 15.51\tgained Experience: 540000\tcurrent Level: 269\tMax Score: 16.55\n",
      "Episode 1900\tAverage Score: 15.45\tgained Experience: 570000\tcurrent Level: 284\tMax Score: 16.55\n",
      "Episode 2000\tAverage Score: 16.40\tgained Experience: 600000\tcurrent Level: 299\tMax Score: 16.55\n",
      "\n",
      "Environment solved in 1900 episodes!\tAverage Score: 16.40\n",
      "\n",
      "finished training\n",
      "CPU times: user 14min 46s, sys: 1min 37s, total: 16min 23s\n",
      "Wall time: 28min 24s\n"
     ]
    },
    {
     "data": {
      "image/png": "[encoded data removed]",
      "text/plain": [
       "<Figure size 432x288 with 1 Axes>"
      ]
     },
     "metadata": {
      "needs_background": "light"
     },
     "output_type": "display_data"
    },
    {
     "name": "stdout",
     "output_type": "stream",
     "text": [
      "\n",
      "\n",
      "--------------------------------------------------------------------------------------------------\n",
      "run\t 4\n",
      "{'BATCH_SIZE': 64, 'BUFFER_SIZE': 100000, 'GAMMA': 0.99, 'LR': 0.0005, 'TAU': 0.001, 'UPDATE_INTERVAL': 20, 'eps_decay': 0.99, 'model': False}\n",
      "[64, 100000, 0.99, 0.0005, 0.001, 20, 0.99, False]\n",
      "Episode 100\tAverage Score: 0.59\tgained Experience: 30000\tcurrent Level: 14\tMax Score: 0.60\n",
      "Episode 200\tAverage Score: 1.62\tgained Experience: 60000\tcurrent Level: 29\tMax Score: 1.62\n",
      "Episode 300\tAverage Score: 2.19\tgained Experience: 90000\tcurrent Level: 44\tMax Score: 2.22\n",
      "Episode 400\tAverage Score: 2.79\tgained Experience: 120000\tcurrent Level: 59\tMax Score: 2.87\n",
      "Episode 500\tAverage Score: 5.40\tgained Experience: 150000\tcurrent Level: 74\tMax Score: 5.40\n",
      "Episode 600\tAverage Score: 6.65\tgained Experience: 180000\tcurrent Level: 89\tMax Score: 6.84\n",
      "Episode 700\tAverage Score: 7.75\tgained Experience: 210000\tcurrent Level: 104\tMax Score: 7.80\n",
      "Episode 800\tAverage Score: 6.82\tgained Experience: 240000\tcurrent Level: 119\tMax Score: 8.12\n",
      "Episode 900\tAverage Score: 7.59\tgained Experience: 270000\tcurrent Level: 134\tMax Score: 8.12\n",
      "Episode 1000\tAverage Score: 11.41\tgained Experience: 300000\tcurrent Level: 149\tMax Score: 11.41\n",
      "Episode 1100\tAverage Score: 13.06\tgained Experience: 330000\tcurrent Level: 164\tMax Score: 13.06\n",
      "Episode 1200\tAverage Score: 14.88\tgained Experience: 360000\tcurrent Level: 179\tMax Score: 15.08\n",
      "Episode 1300\tAverage Score: 15.23\tgained Experience: 390000\tcurrent Level: 194\tMax Score: 15.27\n",
      "Episode 1400\tAverage Score: 15.13\tgained Experience: 420000\tcurrent Level: 209\tMax Score: 15.59\n",
      "Episode 1500\tAverage Score: 15.03\tgained Experience: 450000\tcurrent Level: 224\tMax Score: 15.59\n",
      "Episode 1600\tAverage Score: 15.25\tgained Experience: 480000\tcurrent Level: 239\tMax Score: 15.59\n",
      "Episode 1700\tAverage Score: 15.70\tgained Experience: 510000\tcurrent Level: 254\tMax Score: 15.72\n",
      "Episode 1800\tAverage Score: 16.41\tgained Experience: 540000\tcurrent Level: 269\tMax Score: 16.49\n",
      "Episode 1900\tAverage Score: 16.61\tgained Experience: 570000\tcurrent Level: 284\tMax Score: 16.82\n",
      "Episode 2000\tAverage Score: 15.21\tgained Experience: 600000\tcurrent Level: 299\tMax Score: 16.82\n",
      "\n",
      "Environment solved in 1900 episodes!\tAverage Score: 15.21\n",
      "\n",
      "finished training\n",
      "CPU times: user 15min 56s, sys: 1min 35s, total: 17min 32s\n",
      "Wall time: 29min 46s\n"
     ]
    },
    {
     "data": {
      "image/png": "[encoded data removed]",
      "text/plain": [
       "<Figure size 432x288 with 1 Axes>"
      ]
     },
     "metadata": {
      "needs_background": "light"
     },
     "output_type": "display_data"
    },
    {
     "name": "stdout",
     "output_type": "stream",
     "text": [
      "\n",
      "\n",
      "--------------------------------------------------------------------------------------------------\n",
      "run\t 5\n",
      "{'BATCH_SIZE': 64, 'BUFFER_SIZE': 100000, 'GAMMA': 0.99, 'LR': 0.0005, 'TAU': 0.001, 'UPDATE_INTERVAL': 20, 'eps_decay': 0.999, 'model': True}\n",
      "[64, 100000, 0.99, 0.0005, 0.001, 20, 0.999, True]\n",
      "Episode 100\tAverage Score: 0.10\tgained Experience: 30000\tcurrent Level: 14\tMax Score: 0.50\n",
      "Episode 200\tAverage Score: 0.03\tgained Experience: 60000\tcurrent Level: 29\tMax Score: 0.500\n",
      "Episode 300\tAverage Score: 0.73\tgained Experience: 90000\tcurrent Level: 44\tMax Score: 0.75\n",
      "Episode 400\tAverage Score: 1.35\tgained Experience: 120000\tcurrent Level: 59\tMax Score: 1.35\n",
      "Episode 500\tAverage Score: 2.33\tgained Experience: 150000\tcurrent Level: 74\tMax Score: 2.37\n",
      "Episode 600\tAverage Score: 3.76\tgained Experience: 180000\tcurrent Level: 89\tMax Score: 3.76\n",
      "Episode 700\tAverage Score: 4.35\tgained Experience: 210000\tcurrent Level: 104\tMax Score: 4.48\n",
      "Episode 800\tAverage Score: 5.40\tgained Experience: 240000\tcurrent Level: 119\tMax Score: 5.44\n",
      "Episode 900\tAverage Score: 6.38\tgained Experience: 270000\tcurrent Level: 134\tMax Score: 6.38\n",
      "Episode 1000\tAverage Score: 7.07\tgained Experience: 300000\tcurrent Level: 149\tMax Score: 7.29\n",
      "Episode 1100\tAverage Score: 8.27\tgained Experience: 330000\tcurrent Level: 164\tMax Score: 8.29\n",
      "Episode 1200\tAverage Score: 9.33\tgained Experience: 360000\tcurrent Level: 179\tMax Score: 9.33\n",
      "Episode 1300\tAverage Score: 9.55\tgained Experience: 390000\tcurrent Level: 194\tMax Score: 9.79\n",
      "Episode 1400\tAverage Score: 10.25\tgained Experience: 420000\tcurrent Level: 209\tMax Score: 10.27\n",
      "Episode 1500\tAverage Score: 11.57\tgained Experience: 450000\tcurrent Level: 224\tMax Score: 11.57\n",
      "Episode 1600\tAverage Score: 11.65\tgained Experience: 480000\tcurrent Level: 239\tMax Score: 12.16\n",
      "Episode 1700\tAverage Score: 11.95\tgained Experience: 510000\tcurrent Level: 254\tMax Score: 12.16\n",
      "Episode 1800\tAverage Score: 12.45\tgained Experience: 540000\tcurrent Level: 269\tMax Score: 12.74\n",
      "Episode 1900\tAverage Score: 12.00\tgained Experience: 570000\tcurrent Level: 284\tMax Score: 12.74\n",
      "Episode 2000\tAverage Score: 12.76\tgained Experience: 600000\tcurrent Level: 299\tMax Score: 12.81\n",
      "\n",
      "finished training\n",
      "CPU times: user 12min 59s, sys: 1min 29s, total: 14min 29s\n",
      "Wall time: 26min 39s\n"
     ]
    },
    {
     "data": {
      "image/png": "[encoded data removed]",
      "text/plain": [
       "<Figure size 432x288 with 1 Axes>"
      ]
     },
     "metadata": {
      "needs_background": "light"
     },
     "output_type": "display_data"
    },
    {
     "name": "stdout",
     "output_type": "stream",
     "text": [
      "\n",
      "\n",
      "--------------------------------------------------------------------------------------------------\n",
      "run\t 6\n",
      "{'BATCH_SIZE': 64, 'BUFFER_SIZE': 100000, 'GAMMA': 0.99, 'LR': 0.0005, 'TAU': 0.001, 'UPDATE_INTERVAL': 20, 'eps_decay': 0.999, 'model': False}\n",
      "[64, 100000, 0.99, 0.0005, 0.001, 20, 0.999, False]\n",
      "Episode 100\tAverage Score: 0.25\tgained Experience: 30000\tcurrent Level: 14\tMax Score: 0.50\n",
      "Episode 200\tAverage Score: 0.37\tgained Experience: 60000\tcurrent Level: 29\tMax Score: 0.50\n",
      "Episode 300\tAverage Score: 1.09\tgained Experience: 90000\tcurrent Level: 44\tMax Score: 1.09\n",
      "Episode 400\tAverage Score: 1.39\tgained Experience: 120000\tcurrent Level: 59\tMax Score: 1.40\n",
      "Episode 500\tAverage Score: 2.48\tgained Experience: 150000\tcurrent Level: 74\tMax Score: 2.51\n",
      "Episode 600\tAverage Score: 3.13\tgained Experience: 180000\tcurrent Level: 89\tMax Score: 3.18\n",
      "Episode 700\tAverage Score: 4.37\tgained Experience: 210000\tcurrent Level: 104\tMax Score: 4.38\n",
      "Episode 800\tAverage Score: 4.74\tgained Experience: 240000\tcurrent Level: 119\tMax Score: 4.88\n",
      "Episode 900\tAverage Score: 5.17\tgained Experience: 270000\tcurrent Level: 134\tMax Score: 5.18\n",
      "Episode 1000\tAverage Score: 6.57\tgained Experience: 300000\tcurrent Level: 149\tMax Score: 6.63\n",
      "Episode 1100\tAverage Score: 7.52\tgained Experience: 330000\tcurrent Level: 164\tMax Score: 7.52\n",
      "Episode 1200\tAverage Score: 8.09\tgained Experience: 360000\tcurrent Level: 179\tMax Score: 8.39\n",
      "Episode 1300\tAverage Score: 9.58\tgained Experience: 390000\tcurrent Level: 194\tMax Score: 9.61\n",
      "Episode 1400\tAverage Score: 10.46\tgained Experience: 420000\tcurrent Level: 209\tMax Score: 10.50\n",
      "Episode 1500\tAverage Score: 11.65\tgained Experience: 450000\tcurrent Level: 224\tMax Score: 11.67\n",
      "Episode 1600\tAverage Score: 11.59\tgained Experience: 480000\tcurrent Level: 239\tMax Score: 12.03\n",
      "Episode 1700\tAverage Score: 11.93\tgained Experience: 510000\tcurrent Level: 254\tMax Score: 12.03\n",
      "Episode 1800\tAverage Score: 12.09\tgained Experience: 540000\tcurrent Level: 269\tMax Score: 12.39\n",
      "Episode 1900\tAverage Score: 12.89\tgained Experience: 570000\tcurrent Level: 284\tMax Score: 12.94\n",
      "Episode 2000\tAverage Score: 13.07\tgained Experience: 600000\tcurrent Level: 299\tMax Score: 13.14\n",
      "\n",
      "Environment solved in 1900 episodes!\tAverage Score: 13.07\n",
      "\n",
      "finished training\n",
      "CPU times: user 13min 52s, sys: 1min 28s, total: 15min 21s\n",
      "Wall time: 27min 49s\n"
     ]
    },
    {
     "data": {
      "image/png": "[encoded data removed]",
      "text/plain": [
       "<Figure size 432x288 with 1 Axes>"
      ]
     },
     "metadata": {
      "needs_background": "light"
     },
     "output_type": "display_data"
    },
    {
     "name": "stdout",
     "output_type": "stream",
     "text": [
      "\n",
      "\n"
     ]
    }
   ],
   "source": [
    "import pandas as pd\n",
    "scores = []\n",
    "scoremaxima = []\n",
    "scoreparam = []\n",
    "i = 1\n",
    "for params in ParameterGrid(grid):\n",
    "    print(\"--------------------------------------------------------------------------------------------------\")\n",
    "    print(\"run\\t\", i)\n",
    "    print(params)\n",
    "    print(list(params.values()))\n",
    "    kwargs = params\n",
    "    BUFFER_SIZE = params[\"BUFFER_SIZE\"]\n",
    "    BATCH_SIZE = params[\"BATCH_SIZE\"]\n",
    "    GAMMA = params[\"GAMMA\"]\n",
    "    TAU = params[\"TAU\"]\n",
    "    LR = params[\"LR\"]\n",
    "    UPDATE_INTERVAL = params[\"UPDATE_INTERVAL\"]\n",
    "\n",
    "    %time score, scoremax = dqn(**kwargs)\n",
    "    scores.append(score)\n",
    "    scoremaxima.append(scoremax)\n",
    "    scoreparam.append(list(params.values()))\n",
    "    i += 1\n",
    "    df1 = pd.DataFrame(scores)\n",
    "    df1.to_csv(\"scores3.csv\")\n",
    "    df2 = pd.DataFrame(scoremaxima)\n",
    "    df2.to_csv(\"scoresmaxima3.csv\")\n",
    "    df3 = pd.DataFrame(scoreparam)\n",
    "    df3.to_csv(\"scoreparams3.csv\")\n",
    "    plot_res(score)\n",
    "    print(\"\\n\")"
   ]
  },
  {
   "cell_type": "code",
   "execution_count": 7,
   "metadata": {},
   "outputs": [],
   "source": [
    "#kwargs = {'BATCH_SIZE': 32, 'BUFFER_SIZE': 100000, 'GAMMA': 0.99, 'LR': 5e-05, 'TAU': 0.01, 'UPDATE_INTERVAL': 20}\n",
    "#score, scoremax = dqn(**kwargs)\n",
    "#plot_res(score)"
   ]
  },
  {
   "cell_type": "markdown",
   "metadata": {},
   "source": [
    "kwargs = {'BATCH_SIZE': 64, 'BUFFER_SIZE': 100000, 'GAMMA': 0.9, 'LR': 0.0005, 'TAU': 0.01, 'UPDATE_INTERVAL': 20}\n",
    "score, scoremax = dqn(**kwargs)\n",
    "plot_res(score)"
   ]
  },
  {
   "cell_type": "markdown",
   "metadata": {},
   "source": [
    "kwargs = {'BATCH_SIZE': 64, 'BUFFER_SIZE': 100000, 'GAMMA': 0.99, 'LR': 0.0005, 'TAU': 0.01, 'UPDATE_INTERVAL': 20}\n",
    "score, scoremax = dqn(**kwargs)\n",
    "plot_res(score)"
   ]
  },
  {
   "cell_type": "markdown",
   "metadata": {},
   "source": [
    "kwargs = {'BATCH_SIZE': 64, 'BUFFER_SIZE': 100000, 'GAMMA': 0.99, 'LR': 5e-05, 'TAU': 0.01, 'UPDATE_INTERVAL': 20}\n",
    "score, scoremax = dqn(**kwargs)\n",
    "plot_res(score)"
   ]
  },
  {
   "cell_type": "markdown",
   "metadata": {},
   "source": [
    "## 4. Watch the agent\n",
    "\n",
    "In the next code cell, you will learn how to use the Python API to control the agent and receive feedback from the environment.\n",
    "\n",
    "Once this cell is executed, you will watch the agent's performance, if it selects an action (uniformly) at random with each time step.  A window should pop up that allows you to observe the agent, as it moves through the environment.  \n",
    "\n",
    "Of course, as part of the project, you'll have to change the code so that the agent is able to use its experience to gradually choose better actions when interacting with the environment!"
   ]
  },
  {
   "cell_type": "code",
   "execution_count": 8,
   "metadata": {},
   "outputs": [
    {
     "data": {
      "text/plain": [
       "'\\nimport time\\nglobal_agent = pickle.load(open(\"agent.pkl\", \"rb\"))\\nglobal_agent.EPSILON = 0\\nenv = UnityEnvironment(file_name=\"../BananaFeast/Banana_Linux/Banana.x86_64\")\\nbrain_name = env.brain_names[0]\\nbrain = env.brains[brain_name]\\nfor i_episode in range(1, 2):\\n    env_info = env.reset(train_mode=True)[brain_name]\\n    state = env_info.vector_observations[0]          \\n    for t in range(max_t):\\n        action = global_agent.get_action(state)\\n        env_info = env.step(action)[brain_name]\\n        next_state, reward, done = env_info.vector_observations[0], env_info.rewards[0], env_info.local_done[0]\\n        state = next_state\\n        time.sleep(.020)\\n        if done:\\n            break \\n\\nenv.close()\\n'"
      ]
     },
     "execution_count": 8,
     "metadata": {},
     "output_type": "execute_result"
    }
   ],
   "source": [
    "'''\n",
    "import time\n",
    "global_agent = pickle.load(open(\"agent.pkl\", \"rb\"))\n",
    "global_agent.EPSILON = 0\n",
    "env = UnityEnvironment(file_name=\"../BananaFeast/Banana_Linux/Banana.x86_64\")\n",
    "brain_name = env.brain_names[0]\n",
    "brain = env.brains[brain_name]\n",
    "for i_episode in range(1, 2):\n",
    "    env_info = env.reset(train_mode=True)[brain_name]\n",
    "    state = env_info.vector_observations[0]          \n",
    "    for t in range(max_t):\n",
    "        action = global_agent.get_action(state)\n",
    "        env_info = env.step(action)[brain_name]\n",
    "        next_state, reward, done = env_info.vector_observations[0], env_info.rewards[0], env_info.local_done[0]\n",
    "        state = next_state\n",
    "        time.sleep(.020)\n",
    "        if done:\n",
    "            break \n",
    "\n",
    "env.close()\n",
    "'''"
   ]
  },
  {
   "cell_type": "markdown",
   "metadata": {},
   "source": [
    "When finished, you can close the environment."
   ]
  }
 ],
 "metadata": {
  "kernelspec": {
   "display_name": "drlnd",
   "language": "python",
   "name": "drlnd"
  },
  "language_info": {
   "codemirror_mode": {
    "name": "ipython",
    "version": 3
   },
   "file_extension": ".py",
   "mimetype": "text/x-python",
   "name": "python",
   "nbconvert_exporter": "python",
   "pygments_lexer": "ipython3",
   "version": "3.6.8"
  }
 },
 "nbformat": 4,
 "nbformat_minor": 2
}
